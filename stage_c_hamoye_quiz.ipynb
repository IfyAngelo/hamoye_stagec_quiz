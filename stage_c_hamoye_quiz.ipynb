{
  "cells": [
    {
      "cell_type": "code",
      "execution_count": 232,
      "id": "48321f58",
      "metadata": {
        "id": "48321f58"
      },
      "outputs": [],
      "source": [
        "import pandas as pd\n",
        "import numpy as np\n",
        "import sklearn.utils\n",
        "\n",
        "from xgboost import XGBClassifier\n",
        "from lightgbm import LGBMClassifier\n",
        "from numpy import mean, std\n",
        "from sklearn.model_selection import train_test_split\n",
        "from sklearn.model_selection import KFold\n",
        "from sklearn.metrics import recall_score, accuracy_score, precision_score, f1_score, confusion_matrix\n",
        "from sklearn.model_selection import StratifiedKFold\n",
        "from sklearn.model_selection import cross_val_score\n",
        "from sklearn.model_selection import RandomizedSearchCV\n",
        "from sklearn.model_selection import LeaveOneOut\n",
        "from sklearn.ensemble import RandomForestClassifier\n",
        "from sklearn.ensemble import ExtraTreesClassifier\n",
        "from sklearn.preprocessing import StandardScaler"
      ]
    },
    {
      "cell_type": "code",
      "source": [
        ""
      ],
      "metadata": {
        "id": "toknAIhgLqV9"
      },
      "id": "toknAIhgLqV9",
      "execution_count": 232,
      "outputs": []
    },
    {
      "cell_type": "code",
      "execution_count": 233,
      "id": "74db71b3",
      "metadata": {
        "colab": {
          "base_uri": "https://localhost:8080/",
          "height": 206
        },
        "id": "74db71b3",
        "outputId": "de10331c-1d9d-46a4-b748-7c16f65e8c5a"
      },
      "outputs": [
        {
          "output_type": "execute_result",
          "data": {
            "text/html": [
              "\n",
              "  <div id=\"df-4c51b2f2-9ed7-4f0d-b9e5-75e55a3f382e\">\n",
              "    <div class=\"colab-df-container\">\n",
              "      <div>\n",
              "<style scoped>\n",
              "    .dataframe tbody tr th:only-of-type {\n",
              "        vertical-align: middle;\n",
              "    }\n",
              "\n",
              "    .dataframe tbody tr th {\n",
              "        vertical-align: top;\n",
              "    }\n",
              "\n",
              "    .dataframe thead th {\n",
              "        text-align: right;\n",
              "    }\n",
              "</style>\n",
              "<table border=\"1\" class=\"dataframe\">\n",
              "  <thead>\n",
              "    <tr style=\"text-align: right;\">\n",
              "      <th></th>\n",
              "      <th>tau1</th>\n",
              "      <th>tau2</th>\n",
              "      <th>tau3</th>\n",
              "      <th>tau4</th>\n",
              "      <th>p1</th>\n",
              "      <th>p2</th>\n",
              "      <th>p3</th>\n",
              "      <th>p4</th>\n",
              "      <th>g1</th>\n",
              "      <th>g2</th>\n",
              "      <th>g3</th>\n",
              "      <th>g4</th>\n",
              "      <th>stab</th>\n",
              "      <th>stabf</th>\n",
              "    </tr>\n",
              "  </thead>\n",
              "  <tbody>\n",
              "    <tr>\n",
              "      <th>0</th>\n",
              "      <td>2.959060</td>\n",
              "      <td>3.079885</td>\n",
              "      <td>8.381025</td>\n",
              "      <td>9.780754</td>\n",
              "      <td>3.763085</td>\n",
              "      <td>-0.782604</td>\n",
              "      <td>-1.257395</td>\n",
              "      <td>-1.723086</td>\n",
              "      <td>0.650456</td>\n",
              "      <td>0.859578</td>\n",
              "      <td>0.887445</td>\n",
              "      <td>0.958034</td>\n",
              "      <td>0.055347</td>\n",
              "      <td>unstable</td>\n",
              "    </tr>\n",
              "    <tr>\n",
              "      <th>1</th>\n",
              "      <td>9.304097</td>\n",
              "      <td>4.902524</td>\n",
              "      <td>3.047541</td>\n",
              "      <td>1.369357</td>\n",
              "      <td>5.067812</td>\n",
              "      <td>-1.940058</td>\n",
              "      <td>-1.872742</td>\n",
              "      <td>-1.255012</td>\n",
              "      <td>0.413441</td>\n",
              "      <td>0.862414</td>\n",
              "      <td>0.562139</td>\n",
              "      <td>0.781760</td>\n",
              "      <td>-0.005957</td>\n",
              "      <td>stable</td>\n",
              "    </tr>\n",
              "    <tr>\n",
              "      <th>2</th>\n",
              "      <td>8.971707</td>\n",
              "      <td>8.848428</td>\n",
              "      <td>3.046479</td>\n",
              "      <td>1.214518</td>\n",
              "      <td>3.405158</td>\n",
              "      <td>-1.207456</td>\n",
              "      <td>-1.277210</td>\n",
              "      <td>-0.920492</td>\n",
              "      <td>0.163041</td>\n",
              "      <td>0.766689</td>\n",
              "      <td>0.839444</td>\n",
              "      <td>0.109853</td>\n",
              "      <td>0.003471</td>\n",
              "      <td>unstable</td>\n",
              "    </tr>\n",
              "    <tr>\n",
              "      <th>3</th>\n",
              "      <td>0.716415</td>\n",
              "      <td>7.669600</td>\n",
              "      <td>4.486641</td>\n",
              "      <td>2.340563</td>\n",
              "      <td>3.963791</td>\n",
              "      <td>-1.027473</td>\n",
              "      <td>-1.938944</td>\n",
              "      <td>-0.997374</td>\n",
              "      <td>0.446209</td>\n",
              "      <td>0.976744</td>\n",
              "      <td>0.929381</td>\n",
              "      <td>0.362718</td>\n",
              "      <td>0.028871</td>\n",
              "      <td>unstable</td>\n",
              "    </tr>\n",
              "    <tr>\n",
              "      <th>4</th>\n",
              "      <td>3.134112</td>\n",
              "      <td>7.608772</td>\n",
              "      <td>4.943759</td>\n",
              "      <td>9.857573</td>\n",
              "      <td>3.525811</td>\n",
              "      <td>-1.125531</td>\n",
              "      <td>-1.845975</td>\n",
              "      <td>-0.554305</td>\n",
              "      <td>0.797110</td>\n",
              "      <td>0.455450</td>\n",
              "      <td>0.656947</td>\n",
              "      <td>0.820923</td>\n",
              "      <td>0.049860</td>\n",
              "      <td>unstable</td>\n",
              "    </tr>\n",
              "  </tbody>\n",
              "</table>\n",
              "</div>\n",
              "      <button class=\"colab-df-convert\" onclick=\"convertToInteractive('df-4c51b2f2-9ed7-4f0d-b9e5-75e55a3f382e')\"\n",
              "              title=\"Convert this dataframe to an interactive table.\"\n",
              "              style=\"display:none;\">\n",
              "        \n",
              "  <svg xmlns=\"http://www.w3.org/2000/svg\" height=\"24px\"viewBox=\"0 0 24 24\"\n",
              "       width=\"24px\">\n",
              "    <path d=\"M0 0h24v24H0V0z\" fill=\"none\"/>\n",
              "    <path d=\"M18.56 5.44l.94 2.06.94-2.06 2.06-.94-2.06-.94-.94-2.06-.94 2.06-2.06.94zm-11 1L8.5 8.5l.94-2.06 2.06-.94-2.06-.94L8.5 2.5l-.94 2.06-2.06.94zm10 10l.94 2.06.94-2.06 2.06-.94-2.06-.94-.94-2.06-.94 2.06-2.06.94z\"/><path d=\"M17.41 7.96l-1.37-1.37c-.4-.4-.92-.59-1.43-.59-.52 0-1.04.2-1.43.59L10.3 9.45l-7.72 7.72c-.78.78-.78 2.05 0 2.83L4 21.41c.39.39.9.59 1.41.59.51 0 1.02-.2 1.41-.59l7.78-7.78 2.81-2.81c.8-.78.8-2.07 0-2.86zM5.41 20L4 18.59l7.72-7.72 1.47 1.35L5.41 20z\"/>\n",
              "  </svg>\n",
              "      </button>\n",
              "      \n",
              "  <style>\n",
              "    .colab-df-container {\n",
              "      display:flex;\n",
              "      flex-wrap:wrap;\n",
              "      gap: 12px;\n",
              "    }\n",
              "\n",
              "    .colab-df-convert {\n",
              "      background-color: #E8F0FE;\n",
              "      border: none;\n",
              "      border-radius: 50%;\n",
              "      cursor: pointer;\n",
              "      display: none;\n",
              "      fill: #1967D2;\n",
              "      height: 32px;\n",
              "      padding: 0 0 0 0;\n",
              "      width: 32px;\n",
              "    }\n",
              "\n",
              "    .colab-df-convert:hover {\n",
              "      background-color: #E2EBFA;\n",
              "      box-shadow: 0px 1px 2px rgba(60, 64, 67, 0.3), 0px 1px 3px 1px rgba(60, 64, 67, 0.15);\n",
              "      fill: #174EA6;\n",
              "    }\n",
              "\n",
              "    [theme=dark] .colab-df-convert {\n",
              "      background-color: #3B4455;\n",
              "      fill: #D2E3FC;\n",
              "    }\n",
              "\n",
              "    [theme=dark] .colab-df-convert:hover {\n",
              "      background-color: #434B5C;\n",
              "      box-shadow: 0px 1px 3px 1px rgba(0, 0, 0, 0.15);\n",
              "      filter: drop-shadow(0px 1px 2px rgba(0, 0, 0, 0.3));\n",
              "      fill: #FFFFFF;\n",
              "    }\n",
              "  </style>\n",
              "\n",
              "      <script>\n",
              "        const buttonEl =\n",
              "          document.querySelector('#df-4c51b2f2-9ed7-4f0d-b9e5-75e55a3f382e button.colab-df-convert');\n",
              "        buttonEl.style.display =\n",
              "          google.colab.kernel.accessAllowed ? 'block' : 'none';\n",
              "\n",
              "        async function convertToInteractive(key) {\n",
              "          const element = document.querySelector('#df-4c51b2f2-9ed7-4f0d-b9e5-75e55a3f382e');\n",
              "          const dataTable =\n",
              "            await google.colab.kernel.invokeFunction('convertToInteractive',\n",
              "                                                     [key], {});\n",
              "          if (!dataTable) return;\n",
              "\n",
              "          const docLinkHtml = 'Like what you see? Visit the ' +\n",
              "            '<a target=\"_blank\" href=https://colab.research.google.com/notebooks/data_table.ipynb>data table notebook</a>'\n",
              "            + ' to learn more about interactive tables.';\n",
              "          element.innerHTML = '';\n",
              "          dataTable['output_type'] = 'display_data';\n",
              "          await google.colab.output.renderOutput(dataTable, element);\n",
              "          const docLink = document.createElement('div');\n",
              "          docLink.innerHTML = docLinkHtml;\n",
              "          element.appendChild(docLink);\n",
              "        }\n",
              "      </script>\n",
              "    </div>\n",
              "  </div>\n",
              "  "
            ],
            "text/plain": [
              "       tau1      tau2      tau3      tau4        p1        p2        p3  \\\n",
              "0  2.959060  3.079885  8.381025  9.780754  3.763085 -0.782604 -1.257395   \n",
              "1  9.304097  4.902524  3.047541  1.369357  5.067812 -1.940058 -1.872742   \n",
              "2  8.971707  8.848428  3.046479  1.214518  3.405158 -1.207456 -1.277210   \n",
              "3  0.716415  7.669600  4.486641  2.340563  3.963791 -1.027473 -1.938944   \n",
              "4  3.134112  7.608772  4.943759  9.857573  3.525811 -1.125531 -1.845975   \n",
              "\n",
              "         p4        g1        g2        g3        g4      stab     stabf  \n",
              "0 -1.723086  0.650456  0.859578  0.887445  0.958034  0.055347  unstable  \n",
              "1 -1.255012  0.413441  0.862414  0.562139  0.781760 -0.005957    stable  \n",
              "2 -0.920492  0.163041  0.766689  0.839444  0.109853  0.003471  unstable  \n",
              "3 -0.997374  0.446209  0.976744  0.929381  0.362718  0.028871  unstable  \n",
              "4 -0.554305  0.797110  0.455450  0.656947  0.820923  0.049860  unstable  "
            ]
          },
          "metadata": {},
          "execution_count": 233
        }
      ],
      "source": [
        "df = pd.read_csv('stage_c_data.csv')\n",
        "df.head(5)"
      ]
    },
    {
      "cell_type": "code",
      "execution_count": 234,
      "id": "4d41c46b",
      "metadata": {
        "colab": {
          "base_uri": "https://localhost:8080/"
        },
        "id": "4d41c46b",
        "outputId": "c2dc6558-a87d-4fd9-9fcf-766e198b3325"
      },
      "outputs": [
        {
          "output_type": "execute_result",
          "data": {
            "text/plain": [
              "tau1     0\n",
              "tau2     0\n",
              "tau3     0\n",
              "tau4     0\n",
              "p1       0\n",
              "p2       0\n",
              "p3       0\n",
              "p4       0\n",
              "g1       0\n",
              "g2       0\n",
              "g3       0\n",
              "g4       0\n",
              "stab     0\n",
              "stabf    0\n",
              "dtype: int64"
            ]
          },
          "metadata": {},
          "execution_count": 234
        }
      ],
      "source": [
        "df.isna().sum()"
      ]
    },
    {
      "cell_type": "code",
      "execution_count": 235,
      "id": "ff31d521",
      "metadata": {
        "colab": {
          "base_uri": "https://localhost:8080/",
          "height": 206
        },
        "id": "ff31d521",
        "outputId": "58c2f9b0-14bc-4a35-91c5-8a2033c311cf"
      },
      "outputs": [
        {
          "output_type": "execute_result",
          "data": {
            "text/html": [
              "\n",
              "  <div id=\"df-f50fe2bb-e288-43bf-a337-cf55725c0d2c\">\n",
              "    <div class=\"colab-df-container\">\n",
              "      <div>\n",
              "<style scoped>\n",
              "    .dataframe tbody tr th:only-of-type {\n",
              "        vertical-align: middle;\n",
              "    }\n",
              "\n",
              "    .dataframe tbody tr th {\n",
              "        vertical-align: top;\n",
              "    }\n",
              "\n",
              "    .dataframe thead th {\n",
              "        text-align: right;\n",
              "    }\n",
              "</style>\n",
              "<table border=\"1\" class=\"dataframe\">\n",
              "  <thead>\n",
              "    <tr style=\"text-align: right;\">\n",
              "      <th></th>\n",
              "      <th>tau1</th>\n",
              "      <th>tau2</th>\n",
              "      <th>tau3</th>\n",
              "      <th>tau4</th>\n",
              "      <th>p1</th>\n",
              "      <th>p2</th>\n",
              "      <th>p3</th>\n",
              "      <th>p4</th>\n",
              "      <th>g1</th>\n",
              "      <th>g2</th>\n",
              "      <th>g3</th>\n",
              "      <th>g4</th>\n",
              "      <th>stabf</th>\n",
              "    </tr>\n",
              "  </thead>\n",
              "  <tbody>\n",
              "    <tr>\n",
              "      <th>0</th>\n",
              "      <td>2.959060</td>\n",
              "      <td>3.079885</td>\n",
              "      <td>8.381025</td>\n",
              "      <td>9.780754</td>\n",
              "      <td>3.763085</td>\n",
              "      <td>-0.782604</td>\n",
              "      <td>-1.257395</td>\n",
              "      <td>-1.723086</td>\n",
              "      <td>0.650456</td>\n",
              "      <td>0.859578</td>\n",
              "      <td>0.887445</td>\n",
              "      <td>0.958034</td>\n",
              "      <td>unstable</td>\n",
              "    </tr>\n",
              "    <tr>\n",
              "      <th>1</th>\n",
              "      <td>9.304097</td>\n",
              "      <td>4.902524</td>\n",
              "      <td>3.047541</td>\n",
              "      <td>1.369357</td>\n",
              "      <td>5.067812</td>\n",
              "      <td>-1.940058</td>\n",
              "      <td>-1.872742</td>\n",
              "      <td>-1.255012</td>\n",
              "      <td>0.413441</td>\n",
              "      <td>0.862414</td>\n",
              "      <td>0.562139</td>\n",
              "      <td>0.781760</td>\n",
              "      <td>stable</td>\n",
              "    </tr>\n",
              "    <tr>\n",
              "      <th>2</th>\n",
              "      <td>8.971707</td>\n",
              "      <td>8.848428</td>\n",
              "      <td>3.046479</td>\n",
              "      <td>1.214518</td>\n",
              "      <td>3.405158</td>\n",
              "      <td>-1.207456</td>\n",
              "      <td>-1.277210</td>\n",
              "      <td>-0.920492</td>\n",
              "      <td>0.163041</td>\n",
              "      <td>0.766689</td>\n",
              "      <td>0.839444</td>\n",
              "      <td>0.109853</td>\n",
              "      <td>unstable</td>\n",
              "    </tr>\n",
              "    <tr>\n",
              "      <th>3</th>\n",
              "      <td>0.716415</td>\n",
              "      <td>7.669600</td>\n",
              "      <td>4.486641</td>\n",
              "      <td>2.340563</td>\n",
              "      <td>3.963791</td>\n",
              "      <td>-1.027473</td>\n",
              "      <td>-1.938944</td>\n",
              "      <td>-0.997374</td>\n",
              "      <td>0.446209</td>\n",
              "      <td>0.976744</td>\n",
              "      <td>0.929381</td>\n",
              "      <td>0.362718</td>\n",
              "      <td>unstable</td>\n",
              "    </tr>\n",
              "    <tr>\n",
              "      <th>4</th>\n",
              "      <td>3.134112</td>\n",
              "      <td>7.608772</td>\n",
              "      <td>4.943759</td>\n",
              "      <td>9.857573</td>\n",
              "      <td>3.525811</td>\n",
              "      <td>-1.125531</td>\n",
              "      <td>-1.845975</td>\n",
              "      <td>-0.554305</td>\n",
              "      <td>0.797110</td>\n",
              "      <td>0.455450</td>\n",
              "      <td>0.656947</td>\n",
              "      <td>0.820923</td>\n",
              "      <td>unstable</td>\n",
              "    </tr>\n",
              "  </tbody>\n",
              "</table>\n",
              "</div>\n",
              "      <button class=\"colab-df-convert\" onclick=\"convertToInteractive('df-f50fe2bb-e288-43bf-a337-cf55725c0d2c')\"\n",
              "              title=\"Convert this dataframe to an interactive table.\"\n",
              "              style=\"display:none;\">\n",
              "        \n",
              "  <svg xmlns=\"http://www.w3.org/2000/svg\" height=\"24px\"viewBox=\"0 0 24 24\"\n",
              "       width=\"24px\">\n",
              "    <path d=\"M0 0h24v24H0V0z\" fill=\"none\"/>\n",
              "    <path d=\"M18.56 5.44l.94 2.06.94-2.06 2.06-.94-2.06-.94-.94-2.06-.94 2.06-2.06.94zm-11 1L8.5 8.5l.94-2.06 2.06-.94-2.06-.94L8.5 2.5l-.94 2.06-2.06.94zm10 10l.94 2.06.94-2.06 2.06-.94-2.06-.94-.94-2.06-.94 2.06-2.06.94z\"/><path d=\"M17.41 7.96l-1.37-1.37c-.4-.4-.92-.59-1.43-.59-.52 0-1.04.2-1.43.59L10.3 9.45l-7.72 7.72c-.78.78-.78 2.05 0 2.83L4 21.41c.39.39.9.59 1.41.59.51 0 1.02-.2 1.41-.59l7.78-7.78 2.81-2.81c.8-.78.8-2.07 0-2.86zM5.41 20L4 18.59l7.72-7.72 1.47 1.35L5.41 20z\"/>\n",
              "  </svg>\n",
              "      </button>\n",
              "      \n",
              "  <style>\n",
              "    .colab-df-container {\n",
              "      display:flex;\n",
              "      flex-wrap:wrap;\n",
              "      gap: 12px;\n",
              "    }\n",
              "\n",
              "    .colab-df-convert {\n",
              "      background-color: #E8F0FE;\n",
              "      border: none;\n",
              "      border-radius: 50%;\n",
              "      cursor: pointer;\n",
              "      display: none;\n",
              "      fill: #1967D2;\n",
              "      height: 32px;\n",
              "      padding: 0 0 0 0;\n",
              "      width: 32px;\n",
              "    }\n",
              "\n",
              "    .colab-df-convert:hover {\n",
              "      background-color: #E2EBFA;\n",
              "      box-shadow: 0px 1px 2px rgba(60, 64, 67, 0.3), 0px 1px 3px 1px rgba(60, 64, 67, 0.15);\n",
              "      fill: #174EA6;\n",
              "    }\n",
              "\n",
              "    [theme=dark] .colab-df-convert {\n",
              "      background-color: #3B4455;\n",
              "      fill: #D2E3FC;\n",
              "    }\n",
              "\n",
              "    [theme=dark] .colab-df-convert:hover {\n",
              "      background-color: #434B5C;\n",
              "      box-shadow: 0px 1px 3px 1px rgba(0, 0, 0, 0.15);\n",
              "      filter: drop-shadow(0px 1px 2px rgba(0, 0, 0, 0.3));\n",
              "      fill: #FFFFFF;\n",
              "    }\n",
              "  </style>\n",
              "\n",
              "      <script>\n",
              "        const buttonEl =\n",
              "          document.querySelector('#df-f50fe2bb-e288-43bf-a337-cf55725c0d2c button.colab-df-convert');\n",
              "        buttonEl.style.display =\n",
              "          google.colab.kernel.accessAllowed ? 'block' : 'none';\n",
              "\n",
              "        async function convertToInteractive(key) {\n",
              "          const element = document.querySelector('#df-f50fe2bb-e288-43bf-a337-cf55725c0d2c');\n",
              "          const dataTable =\n",
              "            await google.colab.kernel.invokeFunction('convertToInteractive',\n",
              "                                                     [key], {});\n",
              "          if (!dataTable) return;\n",
              "\n",
              "          const docLinkHtml = 'Like what you see? Visit the ' +\n",
              "            '<a target=\"_blank\" href=https://colab.research.google.com/notebooks/data_table.ipynb>data table notebook</a>'\n",
              "            + ' to learn more about interactive tables.';\n",
              "          element.innerHTML = '';\n",
              "          dataTable['output_type'] = 'display_data';\n",
              "          await google.colab.output.renderOutput(dataTable, element);\n",
              "          const docLink = document.createElement('div');\n",
              "          docLink.innerHTML = docLinkHtml;\n",
              "          element.appendChild(docLink);\n",
              "        }\n",
              "      </script>\n",
              "    </div>\n",
              "  </div>\n",
              "  "
            ],
            "text/plain": [
              "       tau1      tau2      tau3      tau4        p1        p2        p3  \\\n",
              "0  2.959060  3.079885  8.381025  9.780754  3.763085 -0.782604 -1.257395   \n",
              "1  9.304097  4.902524  3.047541  1.369357  5.067812 -1.940058 -1.872742   \n",
              "2  8.971707  8.848428  3.046479  1.214518  3.405158 -1.207456 -1.277210   \n",
              "3  0.716415  7.669600  4.486641  2.340563  3.963791 -1.027473 -1.938944   \n",
              "4  3.134112  7.608772  4.943759  9.857573  3.525811 -1.125531 -1.845975   \n",
              "\n",
              "         p4        g1        g2        g3        g4     stabf  \n",
              "0 -1.723086  0.650456  0.859578  0.887445  0.958034  unstable  \n",
              "1 -1.255012  0.413441  0.862414  0.562139  0.781760    stable  \n",
              "2 -0.920492  0.163041  0.766689  0.839444  0.109853  unstable  \n",
              "3 -0.997374  0.446209  0.976744  0.929381  0.362718  unstable  \n",
              "4 -0.554305  0.797110  0.455450  0.656947  0.820923  unstable  "
            ]
          },
          "metadata": {},
          "execution_count": 235
        }
      ],
      "source": [
        "df = df.drop('stab', axis = 1)\n",
        "df.head(5)"
      ]
    },
    {
      "cell_type": "code",
      "execution_count": 236,
      "id": "cf7c6180",
      "metadata": {
        "colab": {
          "base_uri": "https://localhost:8080/",
          "height": 206
        },
        "id": "cf7c6180",
        "outputId": "d7e66ed6-f3f5-4a13-ea8a-278ffd8573fe"
      },
      "outputs": [
        {
          "output_type": "execute_result",
          "data": {
            "text/html": [
              "\n",
              "  <div id=\"df-74a8dd73-5b7d-4252-9302-c3b02c79868b\">\n",
              "    <div class=\"colab-df-container\">\n",
              "      <div>\n",
              "<style scoped>\n",
              "    .dataframe tbody tr th:only-of-type {\n",
              "        vertical-align: middle;\n",
              "    }\n",
              "\n",
              "    .dataframe tbody tr th {\n",
              "        vertical-align: top;\n",
              "    }\n",
              "\n",
              "    .dataframe thead th {\n",
              "        text-align: right;\n",
              "    }\n",
              "</style>\n",
              "<table border=\"1\" class=\"dataframe\">\n",
              "  <thead>\n",
              "    <tr style=\"text-align: right;\">\n",
              "      <th></th>\n",
              "      <th>tau1</th>\n",
              "      <th>tau2</th>\n",
              "      <th>tau3</th>\n",
              "      <th>tau4</th>\n",
              "      <th>p1</th>\n",
              "      <th>p2</th>\n",
              "      <th>p3</th>\n",
              "      <th>p4</th>\n",
              "      <th>g1</th>\n",
              "      <th>g2</th>\n",
              "      <th>g3</th>\n",
              "      <th>g4</th>\n",
              "    </tr>\n",
              "  </thead>\n",
              "  <tbody>\n",
              "    <tr>\n",
              "      <th>0</th>\n",
              "      <td>2.959060</td>\n",
              "      <td>3.079885</td>\n",
              "      <td>8.381025</td>\n",
              "      <td>9.780754</td>\n",
              "      <td>3.763085</td>\n",
              "      <td>-0.782604</td>\n",
              "      <td>-1.257395</td>\n",
              "      <td>-1.723086</td>\n",
              "      <td>0.650456</td>\n",
              "      <td>0.859578</td>\n",
              "      <td>0.887445</td>\n",
              "      <td>0.958034</td>\n",
              "    </tr>\n",
              "    <tr>\n",
              "      <th>1</th>\n",
              "      <td>9.304097</td>\n",
              "      <td>4.902524</td>\n",
              "      <td>3.047541</td>\n",
              "      <td>1.369357</td>\n",
              "      <td>5.067812</td>\n",
              "      <td>-1.940058</td>\n",
              "      <td>-1.872742</td>\n",
              "      <td>-1.255012</td>\n",
              "      <td>0.413441</td>\n",
              "      <td>0.862414</td>\n",
              "      <td>0.562139</td>\n",
              "      <td>0.781760</td>\n",
              "    </tr>\n",
              "    <tr>\n",
              "      <th>2</th>\n",
              "      <td>8.971707</td>\n",
              "      <td>8.848428</td>\n",
              "      <td>3.046479</td>\n",
              "      <td>1.214518</td>\n",
              "      <td>3.405158</td>\n",
              "      <td>-1.207456</td>\n",
              "      <td>-1.277210</td>\n",
              "      <td>-0.920492</td>\n",
              "      <td>0.163041</td>\n",
              "      <td>0.766689</td>\n",
              "      <td>0.839444</td>\n",
              "      <td>0.109853</td>\n",
              "    </tr>\n",
              "    <tr>\n",
              "      <th>3</th>\n",
              "      <td>0.716415</td>\n",
              "      <td>7.669600</td>\n",
              "      <td>4.486641</td>\n",
              "      <td>2.340563</td>\n",
              "      <td>3.963791</td>\n",
              "      <td>-1.027473</td>\n",
              "      <td>-1.938944</td>\n",
              "      <td>-0.997374</td>\n",
              "      <td>0.446209</td>\n",
              "      <td>0.976744</td>\n",
              "      <td>0.929381</td>\n",
              "      <td>0.362718</td>\n",
              "    </tr>\n",
              "    <tr>\n",
              "      <th>4</th>\n",
              "      <td>3.134112</td>\n",
              "      <td>7.608772</td>\n",
              "      <td>4.943759</td>\n",
              "      <td>9.857573</td>\n",
              "      <td>3.525811</td>\n",
              "      <td>-1.125531</td>\n",
              "      <td>-1.845975</td>\n",
              "      <td>-0.554305</td>\n",
              "      <td>0.797110</td>\n",
              "      <td>0.455450</td>\n",
              "      <td>0.656947</td>\n",
              "      <td>0.820923</td>\n",
              "    </tr>\n",
              "  </tbody>\n",
              "</table>\n",
              "</div>\n",
              "      <button class=\"colab-df-convert\" onclick=\"convertToInteractive('df-74a8dd73-5b7d-4252-9302-c3b02c79868b')\"\n",
              "              title=\"Convert this dataframe to an interactive table.\"\n",
              "              style=\"display:none;\">\n",
              "        \n",
              "  <svg xmlns=\"http://www.w3.org/2000/svg\" height=\"24px\"viewBox=\"0 0 24 24\"\n",
              "       width=\"24px\">\n",
              "    <path d=\"M0 0h24v24H0V0z\" fill=\"none\"/>\n",
              "    <path d=\"M18.56 5.44l.94 2.06.94-2.06 2.06-.94-2.06-.94-.94-2.06-.94 2.06-2.06.94zm-11 1L8.5 8.5l.94-2.06 2.06-.94-2.06-.94L8.5 2.5l-.94 2.06-2.06.94zm10 10l.94 2.06.94-2.06 2.06-.94-2.06-.94-.94-2.06-.94 2.06-2.06.94z\"/><path d=\"M17.41 7.96l-1.37-1.37c-.4-.4-.92-.59-1.43-.59-.52 0-1.04.2-1.43.59L10.3 9.45l-7.72 7.72c-.78.78-.78 2.05 0 2.83L4 21.41c.39.39.9.59 1.41.59.51 0 1.02-.2 1.41-.59l7.78-7.78 2.81-2.81c.8-.78.8-2.07 0-2.86zM5.41 20L4 18.59l7.72-7.72 1.47 1.35L5.41 20z\"/>\n",
              "  </svg>\n",
              "      </button>\n",
              "      \n",
              "  <style>\n",
              "    .colab-df-container {\n",
              "      display:flex;\n",
              "      flex-wrap:wrap;\n",
              "      gap: 12px;\n",
              "    }\n",
              "\n",
              "    .colab-df-convert {\n",
              "      background-color: #E8F0FE;\n",
              "      border: none;\n",
              "      border-radius: 50%;\n",
              "      cursor: pointer;\n",
              "      display: none;\n",
              "      fill: #1967D2;\n",
              "      height: 32px;\n",
              "      padding: 0 0 0 0;\n",
              "      width: 32px;\n",
              "    }\n",
              "\n",
              "    .colab-df-convert:hover {\n",
              "      background-color: #E2EBFA;\n",
              "      box-shadow: 0px 1px 2px rgba(60, 64, 67, 0.3), 0px 1px 3px 1px rgba(60, 64, 67, 0.15);\n",
              "      fill: #174EA6;\n",
              "    }\n",
              "\n",
              "    [theme=dark] .colab-df-convert {\n",
              "      background-color: #3B4455;\n",
              "      fill: #D2E3FC;\n",
              "    }\n",
              "\n",
              "    [theme=dark] .colab-df-convert:hover {\n",
              "      background-color: #434B5C;\n",
              "      box-shadow: 0px 1px 3px 1px rgba(0, 0, 0, 0.15);\n",
              "      filter: drop-shadow(0px 1px 2px rgba(0, 0, 0, 0.3));\n",
              "      fill: #FFFFFF;\n",
              "    }\n",
              "  </style>\n",
              "\n",
              "      <script>\n",
              "        const buttonEl =\n",
              "          document.querySelector('#df-74a8dd73-5b7d-4252-9302-c3b02c79868b button.colab-df-convert');\n",
              "        buttonEl.style.display =\n",
              "          google.colab.kernel.accessAllowed ? 'block' : 'none';\n",
              "\n",
              "        async function convertToInteractive(key) {\n",
              "          const element = document.querySelector('#df-74a8dd73-5b7d-4252-9302-c3b02c79868b');\n",
              "          const dataTable =\n",
              "            await google.colab.kernel.invokeFunction('convertToInteractive',\n",
              "                                                     [key], {});\n",
              "          if (!dataTable) return;\n",
              "\n",
              "          const docLinkHtml = 'Like what you see? Visit the ' +\n",
              "            '<a target=\"_blank\" href=https://colab.research.google.com/notebooks/data_table.ipynb>data table notebook</a>'\n",
              "            + ' to learn more about interactive tables.';\n",
              "          element.innerHTML = '';\n",
              "          dataTable['output_type'] = 'display_data';\n",
              "          await google.colab.output.renderOutput(dataTable, element);\n",
              "          const docLink = document.createElement('div');\n",
              "          docLink.innerHTML = docLinkHtml;\n",
              "          element.appendChild(docLink);\n",
              "        }\n",
              "      </script>\n",
              "    </div>\n",
              "  </div>\n",
              "  "
            ],
            "text/plain": [
              "       tau1      tau2      tau3      tau4        p1        p2        p3  \\\n",
              "0  2.959060  3.079885  8.381025  9.780754  3.763085 -0.782604 -1.257395   \n",
              "1  9.304097  4.902524  3.047541  1.369357  5.067812 -1.940058 -1.872742   \n",
              "2  8.971707  8.848428  3.046479  1.214518  3.405158 -1.207456 -1.277210   \n",
              "3  0.716415  7.669600  4.486641  2.340563  3.963791 -1.027473 -1.938944   \n",
              "4  3.134112  7.608772  4.943759  9.857573  3.525811 -1.125531 -1.845975   \n",
              "\n",
              "         p4        g1        g2        g3        g4  \n",
              "0 -1.723086  0.650456  0.859578  0.887445  0.958034  \n",
              "1 -1.255012  0.413441  0.862414  0.562139  0.781760  \n",
              "2 -0.920492  0.163041  0.766689  0.839444  0.109853  \n",
              "3 -0.997374  0.446209  0.976744  0.929381  0.362718  \n",
              "4 -0.554305  0.797110  0.455450  0.656947  0.820923  "
            ]
          },
          "metadata": {},
          "execution_count": 236
        }
      ],
      "source": [
        "X = df.drop(columns = 'stabf')\n",
        "X.head(5)"
      ]
    },
    {
      "cell_type": "code",
      "execution_count": 237,
      "id": "2a64945f",
      "metadata": {
        "colab": {
          "base_uri": "https://localhost:8080/"
        },
        "id": "2a64945f",
        "outputId": "e17f9548-6c2f-4b6c-d5b9-369c84a9e81a"
      },
      "outputs": [
        {
          "output_type": "execute_result",
          "data": {
            "text/plain": [
              "0    unstable\n",
              "1      stable\n",
              "2    unstable\n",
              "3    unstable\n",
              "4    unstable\n",
              "Name: stabf, dtype: object"
            ]
          },
          "metadata": {},
          "execution_count": 237
        }
      ],
      "source": [
        "y = df['stabf']\n",
        "y.head(5)"
      ]
    },
    {
      "cell_type": "code",
      "execution_count": 238,
      "id": "aa96ee6e",
      "metadata": {
        "id": "aa96ee6e"
      },
      "outputs": [],
      "source": [
        "X_train, X_test, y_train, y_test = train_test_split(X, y,test_size = 0.2, random_state = 1)"
      ]
    },
    {
      "cell_type": "code",
      "execution_count": 239,
      "id": "020a9193",
      "metadata": {
        "colab": {
          "base_uri": "https://localhost:8080/",
          "height": 206
        },
        "id": "020a9193",
        "outputId": "fb078585-97e2-4be3-ce86-625b03cb232a"
      },
      "outputs": [
        {
          "output_type": "execute_result",
          "data": {
            "text/html": [
              "\n",
              "  <div id=\"df-b65771ad-2b20-4893-a74f-da5f7ab09f49\">\n",
              "    <div class=\"colab-df-container\">\n",
              "      <div>\n",
              "<style scoped>\n",
              "    .dataframe tbody tr th:only-of-type {\n",
              "        vertical-align: middle;\n",
              "    }\n",
              "\n",
              "    .dataframe tbody tr th {\n",
              "        vertical-align: top;\n",
              "    }\n",
              "\n",
              "    .dataframe thead th {\n",
              "        text-align: right;\n",
              "    }\n",
              "</style>\n",
              "<table border=\"1\" class=\"dataframe\">\n",
              "  <thead>\n",
              "    <tr style=\"text-align: right;\">\n",
              "      <th></th>\n",
              "      <th>tau1</th>\n",
              "      <th>tau2</th>\n",
              "      <th>tau3</th>\n",
              "      <th>tau4</th>\n",
              "      <th>p1</th>\n",
              "      <th>p2</th>\n",
              "      <th>p3</th>\n",
              "      <th>p4</th>\n",
              "      <th>g1</th>\n",
              "      <th>g2</th>\n",
              "      <th>g3</th>\n",
              "      <th>g4</th>\n",
              "    </tr>\n",
              "  </thead>\n",
              "  <tbody>\n",
              "    <tr>\n",
              "      <th>2694</th>\n",
              "      <td>6.255995</td>\n",
              "      <td>2.542401</td>\n",
              "      <td>7.024714</td>\n",
              "      <td>9.476518</td>\n",
              "      <td>3.529888</td>\n",
              "      <td>-1.224881</td>\n",
              "      <td>-0.688228</td>\n",
              "      <td>-1.616780</td>\n",
              "      <td>0.568221</td>\n",
              "      <td>0.618403</td>\n",
              "      <td>0.685739</td>\n",
              "      <td>0.660088</td>\n",
              "    </tr>\n",
              "    <tr>\n",
              "      <th>5140</th>\n",
              "      <td>5.070581</td>\n",
              "      <td>5.490253</td>\n",
              "      <td>8.075688</td>\n",
              "      <td>0.761075</td>\n",
              "      <td>4.220888</td>\n",
              "      <td>-1.280596</td>\n",
              "      <td>-1.902185</td>\n",
              "      <td>-1.038107</td>\n",
              "      <td>0.443515</td>\n",
              "      <td>0.097244</td>\n",
              "      <td>0.916955</td>\n",
              "      <td>0.129254</td>\n",
              "    </tr>\n",
              "    <tr>\n",
              "      <th>2568</th>\n",
              "      <td>1.220072</td>\n",
              "      <td>8.804028</td>\n",
              "      <td>3.874283</td>\n",
              "      <td>8.433949</td>\n",
              "      <td>3.614027</td>\n",
              "      <td>-1.039236</td>\n",
              "      <td>-0.953566</td>\n",
              "      <td>-1.621224</td>\n",
              "      <td>0.908353</td>\n",
              "      <td>0.923594</td>\n",
              "      <td>0.238881</td>\n",
              "      <td>0.660156</td>\n",
              "    </tr>\n",
              "    <tr>\n",
              "      <th>3671</th>\n",
              "      <td>7.498402</td>\n",
              "      <td>6.697603</td>\n",
              "      <td>8.798626</td>\n",
              "      <td>2.126236</td>\n",
              "      <td>3.134585</td>\n",
              "      <td>-1.581906</td>\n",
              "      <td>-0.589386</td>\n",
              "      <td>-0.963293</td>\n",
              "      <td>0.260826</td>\n",
              "      <td>0.899003</td>\n",
              "      <td>0.964752</td>\n",
              "      <td>0.600598</td>\n",
              "    </tr>\n",
              "    <tr>\n",
              "      <th>7427</th>\n",
              "      <td>7.074006</td>\n",
              "      <td>1.337511</td>\n",
              "      <td>6.100756</td>\n",
              "      <td>7.759156</td>\n",
              "      <td>2.526922</td>\n",
              "      <td>-0.922540</td>\n",
              "      <td>-0.632600</td>\n",
              "      <td>-0.971782</td>\n",
              "      <td>0.984580</td>\n",
              "      <td>0.716082</td>\n",
              "      <td>0.836928</td>\n",
              "      <td>0.165162</td>\n",
              "    </tr>\n",
              "  </tbody>\n",
              "</table>\n",
              "</div>\n",
              "      <button class=\"colab-df-convert\" onclick=\"convertToInteractive('df-b65771ad-2b20-4893-a74f-da5f7ab09f49')\"\n",
              "              title=\"Convert this dataframe to an interactive table.\"\n",
              "              style=\"display:none;\">\n",
              "        \n",
              "  <svg xmlns=\"http://www.w3.org/2000/svg\" height=\"24px\"viewBox=\"0 0 24 24\"\n",
              "       width=\"24px\">\n",
              "    <path d=\"M0 0h24v24H0V0z\" fill=\"none\"/>\n",
              "    <path d=\"M18.56 5.44l.94 2.06.94-2.06 2.06-.94-2.06-.94-.94-2.06-.94 2.06-2.06.94zm-11 1L8.5 8.5l.94-2.06 2.06-.94-2.06-.94L8.5 2.5l-.94 2.06-2.06.94zm10 10l.94 2.06.94-2.06 2.06-.94-2.06-.94-.94-2.06-.94 2.06-2.06.94z\"/><path d=\"M17.41 7.96l-1.37-1.37c-.4-.4-.92-.59-1.43-.59-.52 0-1.04.2-1.43.59L10.3 9.45l-7.72 7.72c-.78.78-.78 2.05 0 2.83L4 21.41c.39.39.9.59 1.41.59.51 0 1.02-.2 1.41-.59l7.78-7.78 2.81-2.81c.8-.78.8-2.07 0-2.86zM5.41 20L4 18.59l7.72-7.72 1.47 1.35L5.41 20z\"/>\n",
              "  </svg>\n",
              "      </button>\n",
              "      \n",
              "  <style>\n",
              "    .colab-df-container {\n",
              "      display:flex;\n",
              "      flex-wrap:wrap;\n",
              "      gap: 12px;\n",
              "    }\n",
              "\n",
              "    .colab-df-convert {\n",
              "      background-color: #E8F0FE;\n",
              "      border: none;\n",
              "      border-radius: 50%;\n",
              "      cursor: pointer;\n",
              "      display: none;\n",
              "      fill: #1967D2;\n",
              "      height: 32px;\n",
              "      padding: 0 0 0 0;\n",
              "      width: 32px;\n",
              "    }\n",
              "\n",
              "    .colab-df-convert:hover {\n",
              "      background-color: #E2EBFA;\n",
              "      box-shadow: 0px 1px 2px rgba(60, 64, 67, 0.3), 0px 1px 3px 1px rgba(60, 64, 67, 0.15);\n",
              "      fill: #174EA6;\n",
              "    }\n",
              "\n",
              "    [theme=dark] .colab-df-convert {\n",
              "      background-color: #3B4455;\n",
              "      fill: #D2E3FC;\n",
              "    }\n",
              "\n",
              "    [theme=dark] .colab-df-convert:hover {\n",
              "      background-color: #434B5C;\n",
              "      box-shadow: 0px 1px 3px 1px rgba(0, 0, 0, 0.15);\n",
              "      filter: drop-shadow(0px 1px 2px rgba(0, 0, 0, 0.3));\n",
              "      fill: #FFFFFF;\n",
              "    }\n",
              "  </style>\n",
              "\n",
              "      <script>\n",
              "        const buttonEl =\n",
              "          document.querySelector('#df-b65771ad-2b20-4893-a74f-da5f7ab09f49 button.colab-df-convert');\n",
              "        buttonEl.style.display =\n",
              "          google.colab.kernel.accessAllowed ? 'block' : 'none';\n",
              "\n",
              "        async function convertToInteractive(key) {\n",
              "          const element = document.querySelector('#df-b65771ad-2b20-4893-a74f-da5f7ab09f49');\n",
              "          const dataTable =\n",
              "            await google.colab.kernel.invokeFunction('convertToInteractive',\n",
              "                                                     [key], {});\n",
              "          if (!dataTable) return;\n",
              "\n",
              "          const docLinkHtml = 'Like what you see? Visit the ' +\n",
              "            '<a target=\"_blank\" href=https://colab.research.google.com/notebooks/data_table.ipynb>data table notebook</a>'\n",
              "            + ' to learn more about interactive tables.';\n",
              "          element.innerHTML = '';\n",
              "          dataTable['output_type'] = 'display_data';\n",
              "          await google.colab.output.renderOutput(dataTable, element);\n",
              "          const docLink = document.createElement('div');\n",
              "          docLink.innerHTML = docLinkHtml;\n",
              "          element.appendChild(docLink);\n",
              "        }\n",
              "      </script>\n",
              "    </div>\n",
              "  </div>\n",
              "  "
            ],
            "text/plain": [
              "          tau1      tau2      tau3      tau4        p1        p2        p3  \\\n",
              "2694  6.255995  2.542401  7.024714  9.476518  3.529888 -1.224881 -0.688228   \n",
              "5140  5.070581  5.490253  8.075688  0.761075  4.220888 -1.280596 -1.902185   \n",
              "2568  1.220072  8.804028  3.874283  8.433949  3.614027 -1.039236 -0.953566   \n",
              "3671  7.498402  6.697603  8.798626  2.126236  3.134585 -1.581906 -0.589386   \n",
              "7427  7.074006  1.337511  6.100756  7.759156  2.526922 -0.922540 -0.632600   \n",
              "\n",
              "            p4        g1        g2        g3        g4  \n",
              "2694 -1.616780  0.568221  0.618403  0.685739  0.660088  \n",
              "5140 -1.038107  0.443515  0.097244  0.916955  0.129254  \n",
              "2568 -1.621224  0.908353  0.923594  0.238881  0.660156  \n",
              "3671 -0.963293  0.260826  0.899003  0.964752  0.600598  \n",
              "7427 -0.971782  0.984580  0.716082  0.836928  0.165162  "
            ]
          },
          "metadata": {},
          "execution_count": 239
        }
      ],
      "source": [
        "scaler = StandardScaler()\n",
        "\n",
        "X_train_scaled = scaler.fit_transform(X_train)\n",
        "X_train.head(5)"
      ]
    },
    {
      "cell_type": "code",
      "execution_count": 240,
      "id": "06137107",
      "metadata": {
        "colab": {
          "base_uri": "https://localhost:8080/"
        },
        "id": "06137107",
        "outputId": "608e8629-0b8a-4be1-958c-58c22f643bff"
      },
      "outputs": [
        {
          "output_type": "execute_result",
          "data": {
            "text/plain": [
              "2694    0\n",
              "5140    0\n",
              "2568    0\n",
              "3671    0\n",
              "7427    0\n",
              "Name: stabf, dtype: int64"
            ]
          },
          "metadata": {},
          "execution_count": 240
        }
      ],
      "source": [
        "y_train = y_train.replace({'stable': 1, 'unstable': 0})\n",
        "y_train.head(5)"
      ]
    },
    {
      "cell_type": "code",
      "execution_count": 241,
      "id": "8bf5947a",
      "metadata": {
        "colab": {
          "base_uri": "https://localhost:8080/"
        },
        "id": "8bf5947a",
        "outputId": "2fbf1de7-640f-4d1a-dd8d-2756b020ca5b"
      },
      "outputs": [
        {
          "output_type": "execute_result",
          "data": {
            "text/plain": [
              "9953    0\n",
              "3850    0\n",
              "4962    1\n",
              "3886    1\n",
              "5437    0\n",
              "Name: stabf, dtype: int64"
            ]
          },
          "metadata": {},
          "execution_count": 241
        }
      ],
      "source": [
        "y_test = y_test.replace({'stable': 1, 'unstable': 0})\n",
        "y_test.head(5)"
      ]
    },
    {
      "cell_type": "code",
      "execution_count": 242,
      "id": "df19706f",
      "metadata": {
        "colab": {
          "base_uri": "https://localhost:8080/",
          "height": 206
        },
        "id": "df19706f",
        "outputId": "82f0f9a5-4832-4966-99e1-178d2a6fbcd4"
      },
      "outputs": [
        {
          "output_type": "execute_result",
          "data": {
            "text/html": [
              "\n",
              "  <div id=\"df-5d2d539d-46d5-425f-a324-4888ce1bedab\">\n",
              "    <div class=\"colab-df-container\">\n",
              "      <div>\n",
              "<style scoped>\n",
              "    .dataframe tbody tr th:only-of-type {\n",
              "        vertical-align: middle;\n",
              "    }\n",
              "\n",
              "    .dataframe tbody tr th {\n",
              "        vertical-align: top;\n",
              "    }\n",
              "\n",
              "    .dataframe thead th {\n",
              "        text-align: right;\n",
              "    }\n",
              "</style>\n",
              "<table border=\"1\" class=\"dataframe\">\n",
              "  <thead>\n",
              "    <tr style=\"text-align: right;\">\n",
              "      <th></th>\n",
              "      <th>tau1</th>\n",
              "      <th>tau2</th>\n",
              "      <th>tau3</th>\n",
              "      <th>tau4</th>\n",
              "      <th>p1</th>\n",
              "      <th>p2</th>\n",
              "      <th>p3</th>\n",
              "      <th>p4</th>\n",
              "      <th>g1</th>\n",
              "      <th>g2</th>\n",
              "      <th>g3</th>\n",
              "      <th>g4</th>\n",
              "    </tr>\n",
              "  </thead>\n",
              "  <tbody>\n",
              "    <tr>\n",
              "      <th>9953</th>\n",
              "      <td>6.877876</td>\n",
              "      <td>4.113820</td>\n",
              "      <td>9.356768</td>\n",
              "      <td>8.299753</td>\n",
              "      <td>4.056779</td>\n",
              "      <td>-1.897470</td>\n",
              "      <td>-1.590581</td>\n",
              "      <td>-0.568728</td>\n",
              "      <td>0.276567</td>\n",
              "      <td>0.845536</td>\n",
              "      <td>0.112440</td>\n",
              "      <td>0.822562</td>\n",
              "    </tr>\n",
              "    <tr>\n",
              "      <th>3850</th>\n",
              "      <td>5.802841</td>\n",
              "      <td>6.271371</td>\n",
              "      <td>4.731540</td>\n",
              "      <td>3.819867</td>\n",
              "      <td>3.579569</td>\n",
              "      <td>-1.709480</td>\n",
              "      <td>-1.067511</td>\n",
              "      <td>-0.802579</td>\n",
              "      <td>0.077527</td>\n",
              "      <td>0.416478</td>\n",
              "      <td>0.912846</td>\n",
              "      <td>0.861306</td>\n",
              "    </tr>\n",
              "    <tr>\n",
              "      <th>4962</th>\n",
              "      <td>2.286998</td>\n",
              "      <td>4.385142</td>\n",
              "      <td>2.830232</td>\n",
              "      <td>5.293880</td>\n",
              "      <td>3.035814</td>\n",
              "      <td>-1.202764</td>\n",
              "      <td>-0.902011</td>\n",
              "      <td>-0.931039</td>\n",
              "      <td>0.924216</td>\n",
              "      <td>0.130186</td>\n",
              "      <td>0.703887</td>\n",
              "      <td>0.063811</td>\n",
              "    </tr>\n",
              "    <tr>\n",
              "      <th>3886</th>\n",
              "      <td>5.019920</td>\n",
              "      <td>2.209962</td>\n",
              "      <td>6.266080</td>\n",
              "      <td>0.578901</td>\n",
              "      <td>4.322584</td>\n",
              "      <td>-1.960207</td>\n",
              "      <td>-1.074561</td>\n",
              "      <td>-1.287815</td>\n",
              "      <td>0.546910</td>\n",
              "      <td>0.065992</td>\n",
              "      <td>0.427349</td>\n",
              "      <td>0.814648</td>\n",
              "    </tr>\n",
              "    <tr>\n",
              "      <th>5437</th>\n",
              "      <td>7.646145</td>\n",
              "      <td>9.187896</td>\n",
              "      <td>5.484219</td>\n",
              "      <td>9.934313</td>\n",
              "      <td>3.634226</td>\n",
              "      <td>-1.254541</td>\n",
              "      <td>-1.335366</td>\n",
              "      <td>-1.044319</td>\n",
              "      <td>0.561528</td>\n",
              "      <td>0.121611</td>\n",
              "      <td>0.787318</td>\n",
              "      <td>0.300314</td>\n",
              "    </tr>\n",
              "  </tbody>\n",
              "</table>\n",
              "</div>\n",
              "      <button class=\"colab-df-convert\" onclick=\"convertToInteractive('df-5d2d539d-46d5-425f-a324-4888ce1bedab')\"\n",
              "              title=\"Convert this dataframe to an interactive table.\"\n",
              "              style=\"display:none;\">\n",
              "        \n",
              "  <svg xmlns=\"http://www.w3.org/2000/svg\" height=\"24px\"viewBox=\"0 0 24 24\"\n",
              "       width=\"24px\">\n",
              "    <path d=\"M0 0h24v24H0V0z\" fill=\"none\"/>\n",
              "    <path d=\"M18.56 5.44l.94 2.06.94-2.06 2.06-.94-2.06-.94-.94-2.06-.94 2.06-2.06.94zm-11 1L8.5 8.5l.94-2.06 2.06-.94-2.06-.94L8.5 2.5l-.94 2.06-2.06.94zm10 10l.94 2.06.94-2.06 2.06-.94-2.06-.94-.94-2.06-.94 2.06-2.06.94z\"/><path d=\"M17.41 7.96l-1.37-1.37c-.4-.4-.92-.59-1.43-.59-.52 0-1.04.2-1.43.59L10.3 9.45l-7.72 7.72c-.78.78-.78 2.05 0 2.83L4 21.41c.39.39.9.59 1.41.59.51 0 1.02-.2 1.41-.59l7.78-7.78 2.81-2.81c.8-.78.8-2.07 0-2.86zM5.41 20L4 18.59l7.72-7.72 1.47 1.35L5.41 20z\"/>\n",
              "  </svg>\n",
              "      </button>\n",
              "      \n",
              "  <style>\n",
              "    .colab-df-container {\n",
              "      display:flex;\n",
              "      flex-wrap:wrap;\n",
              "      gap: 12px;\n",
              "    }\n",
              "\n",
              "    .colab-df-convert {\n",
              "      background-color: #E8F0FE;\n",
              "      border: none;\n",
              "      border-radius: 50%;\n",
              "      cursor: pointer;\n",
              "      display: none;\n",
              "      fill: #1967D2;\n",
              "      height: 32px;\n",
              "      padding: 0 0 0 0;\n",
              "      width: 32px;\n",
              "    }\n",
              "\n",
              "    .colab-df-convert:hover {\n",
              "      background-color: #E2EBFA;\n",
              "      box-shadow: 0px 1px 2px rgba(60, 64, 67, 0.3), 0px 1px 3px 1px rgba(60, 64, 67, 0.15);\n",
              "      fill: #174EA6;\n",
              "    }\n",
              "\n",
              "    [theme=dark] .colab-df-convert {\n",
              "      background-color: #3B4455;\n",
              "      fill: #D2E3FC;\n",
              "    }\n",
              "\n",
              "    [theme=dark] .colab-df-convert:hover {\n",
              "      background-color: #434B5C;\n",
              "      box-shadow: 0px 1px 3px 1px rgba(0, 0, 0, 0.15);\n",
              "      filter: drop-shadow(0px 1px 2px rgba(0, 0, 0, 0.3));\n",
              "      fill: #FFFFFF;\n",
              "    }\n",
              "  </style>\n",
              "\n",
              "      <script>\n",
              "        const buttonEl =\n",
              "          document.querySelector('#df-5d2d539d-46d5-425f-a324-4888ce1bedab button.colab-df-convert');\n",
              "        buttonEl.style.display =\n",
              "          google.colab.kernel.accessAllowed ? 'block' : 'none';\n",
              "\n",
              "        async function convertToInteractive(key) {\n",
              "          const element = document.querySelector('#df-5d2d539d-46d5-425f-a324-4888ce1bedab');\n",
              "          const dataTable =\n",
              "            await google.colab.kernel.invokeFunction('convertToInteractive',\n",
              "                                                     [key], {});\n",
              "          if (!dataTable) return;\n",
              "\n",
              "          const docLinkHtml = 'Like what you see? Visit the ' +\n",
              "            '<a target=\"_blank\" href=https://colab.research.google.com/notebooks/data_table.ipynb>data table notebook</a>'\n",
              "            + ' to learn more about interactive tables.';\n",
              "          element.innerHTML = '';\n",
              "          dataTable['output_type'] = 'display_data';\n",
              "          await google.colab.output.renderOutput(dataTable, element);\n",
              "          const docLink = document.createElement('div');\n",
              "          docLink.innerHTML = docLinkHtml;\n",
              "          element.appendChild(docLink);\n",
              "        }\n",
              "      </script>\n",
              "    </div>\n",
              "  </div>\n",
              "  "
            ],
            "text/plain": [
              "          tau1      tau2      tau3      tau4        p1        p2        p3  \\\n",
              "9953  6.877876  4.113820  9.356768  8.299753  4.056779 -1.897470 -1.590581   \n",
              "3850  5.802841  6.271371  4.731540  3.819867  3.579569 -1.709480 -1.067511   \n",
              "4962  2.286998  4.385142  2.830232  5.293880  3.035814 -1.202764 -0.902011   \n",
              "3886  5.019920  2.209962  6.266080  0.578901  4.322584 -1.960207 -1.074561   \n",
              "5437  7.646145  9.187896  5.484219  9.934313  3.634226 -1.254541 -1.335366   \n",
              "\n",
              "            p4        g1        g2        g3        g4  \n",
              "9953 -0.568728  0.276567  0.845536  0.112440  0.822562  \n",
              "3850 -0.802579  0.077527  0.416478  0.912846  0.861306  \n",
              "4962 -0.931039  0.924216  0.130186  0.703887  0.063811  \n",
              "3886 -1.287815  0.546910  0.065992  0.427349  0.814648  \n",
              "5437 -1.044319  0.561528  0.121611  0.787318  0.300314  "
            ]
          },
          "metadata": {},
          "execution_count": 242
        }
      ],
      "source": [
        "X_test_scaled = scaler.fit_transform(X_test)\n",
        "X_test.head(5)"
      ]
    },
    {
      "cell_type": "markdown",
      "id": "631e7556",
      "metadata": {
        "id": "631e7556"
      },
      "source": [
        "# RANDOM FOREST"
      ]
    },
    {
      "cell_type": "code",
      "execution_count": 243,
      "id": "6d10107d",
      "metadata": {
        "colab": {
          "base_uri": "https://localhost:8080/"
        },
        "id": "6d10107d",
        "outputId": "dbecd769-2ced-4430-af1c-38e9ebaa3c02"
      },
      "outputs": [
        {
          "output_type": "execute_result",
          "data": {
            "text/plain": [
              "RandomForestClassifier(random_state=1)"
            ]
          },
          "metadata": {},
          "execution_count": 243
        }
      ],
      "source": [
        "#train\n",
        "\n",
        "model = RandomForestClassifier(random_state = 1)\n",
        "model.fit(X_train, y_train)"
      ]
    },
    {
      "cell_type": "code",
      "source": [
        "new_predictions = model.predict(X_test)\n",
        "\n",
        "cnf_mat = confusion_matrix(y_test, new_predictions)\n",
        "cnf_mat"
      ],
      "metadata": {
        "colab": {
          "base_uri": "https://localhost:8080/"
        },
        "id": "260RCg8GKsIn",
        "outputId": "31eef1a4-e170-4951-d44e-16aa2a04c059"
      },
      "id": "260RCg8GKsIn",
      "execution_count": 244,
      "outputs": [
        {
          "output_type": "execute_result",
          "data": {
            "text/plain": [
              "array([[1238,   50],\n",
              "       [  91,  621]])"
            ]
          },
          "metadata": {},
          "execution_count": 244
        }
      ]
    },
    {
      "cell_type": "code",
      "source": [
        "accuracy = accuracy_score(new_predictions, y_test)\n",
        "print( 'Accuracy: {}' .format(round(accuracy*100 ), 4))"
      ],
      "metadata": {
        "colab": {
          "base_uri": "https://localhost:8080/"
        },
        "id": "5cP4dbhjK6Id",
        "outputId": "6e01a376-1711-43ed-e143-8076cb9cc6db"
      },
      "id": "5cP4dbhjK6Id",
      "execution_count": 245,
      "outputs": [
        {
          "output_type": "stream",
          "name": "stdout",
          "text": [
            "Accuracy: 93\n"
          ]
        }
      ]
    },
    {
      "cell_type": "markdown",
      "id": "70a856b2",
      "metadata": {
        "id": "70a856b2"
      },
      "source": [
        "EVALUATION"
      ]
    },
    {
      "cell_type": "code",
      "execution_count": 246,
      "id": "77e32112",
      "metadata": {
        "colab": {
          "base_uri": "https://localhost:8080/"
        },
        "id": "77e32112",
        "outputId": "1d3bca9c-9444-4697-9b0d-9c227753606b"
      },
      "outputs": [
        {
          "output_type": "execute_result",
          "data": {
            "text/plain": [
              "0.9295"
            ]
          },
          "metadata": {},
          "execution_count": 246
        }
      ],
      "source": [
        "score = model.score(X_test, y_test)\n",
        "score"
      ]
    },
    {
      "cell_type": "code",
      "execution_count": 247,
      "id": "7ec1ad93",
      "metadata": {
        "colab": {
          "base_uri": "https://localhost:8080/"
        },
        "id": "7ec1ad93",
        "outputId": "d46e77e1-22ee-41c8-83bf-8f9e4df1cf65"
      },
      "outputs": [
        {
          "output_type": "execute_result",
          "data": {
            "text/plain": [
              "array([0.91114291, 0.91121721, 0.91251512, 0.89775316, 0.91389817])"
            ]
          },
          "metadata": {},
          "execution_count": 247
        }
      ],
      "source": [
        "#CROSS-VALIDATION\n",
        "\n",
        "cv_RF = cross_val_score(model, X_train, y_train, cv= 5 , scoring= 'f1_macro' )\n",
        "cv_RF"
      ]
    },
    {
      "cell_type": "code",
      "source": [
        "average_score_cv_RF = cv_RF.mean() * 100\n",
        "average_score_cv_RF"
      ],
      "metadata": {
        "colab": {
          "base_uri": "https://localhost:8080/"
        },
        "id": "eGj3cPAlA_io",
        "outputId": "b789c898-e663-4970-bb5f-958d391fbf6f"
      },
      "id": "eGj3cPAlA_io",
      "execution_count": 248,
      "outputs": [
        {
          "output_type": "execute_result",
          "data": {
            "text/plain": [
              "90.9305315608359"
            ]
          },
          "metadata": {},
          "execution_count": 248
        }
      ]
    },
    {
      "cell_type": "code",
      "execution_count": 249,
      "id": "592a512d",
      "metadata": {
        "colab": {
          "base_uri": "https://localhost:8080/"
        },
        "id": "592a512d",
        "outputId": "98668d36-0745-459d-f3a6-ef2a8872134c"
      },
      "outputs": [
        {
          "output_type": "execute_result",
          "data": {
            "text/plain": [
              "array([0.89689287, 0.91360336, 0.9087038 , 0.89908125, 0.91593395])"
            ]
          },
          "metadata": {},
          "execution_count": 249
        }
      ],
      "source": [
        "#K-FOLD VALIDATION\n",
        "\n",
        "k_fold_RF = KFold(n_splits = 5, random_state = None)\n",
        "k_fold_RF = cross_val_score(model, X_train, y_train, cv= k_fold_RF, scoring = 'f1_macro')\n",
        "k_fold_RF"
      ]
    },
    {
      "cell_type": "code",
      "source": [
        "average_score_kfold_RF = k_fold_RF.mean() * 100\n",
        "average_score_kfold_RF"
      ],
      "metadata": {
        "colab": {
          "base_uri": "https://localhost:8080/"
        },
        "id": "fVu5WvjeBvak",
        "outputId": "7d383741-0ff3-4ff2-ee31-526a8829328f"
      },
      "id": "fVu5WvjeBvak",
      "execution_count": 250,
      "outputs": [
        {
          "output_type": "execute_result",
          "data": {
            "text/plain": [
              "90.68430434415845"
            ]
          },
          "metadata": {},
          "execution_count": 250
        }
      ]
    },
    {
      "cell_type": "code",
      "execution_count": 251,
      "id": "f3125319",
      "metadata": {
        "colab": {
          "base_uri": "https://localhost:8080/"
        },
        "id": "f3125319",
        "outputId": "99fa61ec-e68c-4b2a-9b53-736ec64dfd67"
      },
      "outputs": [
        {
          "output_type": "execute_result",
          "data": {
            "text/plain": [
              "array([0.91114291, 0.91121721, 0.91251512, 0.89775316, 0.91389817])"
            ]
          },
          "metadata": {},
          "execution_count": 251
        }
      ],
      "source": [
        "#Stratified K-FOLD VALIDATION\n",
        "\n",
        "S_k_fold_RF = StratifiedKFold(n_splits = 5, random_state = None)\n",
        "S_k_fold_RF = cross_val_score(model, X_train, y_train, cv= S_k_fold_RF, scoring = 'f1_macro')\n",
        "S_k_fold_RF"
      ]
    },
    {
      "cell_type": "code",
      "source": [
        "average_score_skfold_RF = S_k_fold_RF.mean() * 100\n",
        "average_score_skfold_RF"
      ],
      "metadata": {
        "colab": {
          "base_uri": "https://localhost:8080/"
        },
        "id": "tFy0w4mvCNn-",
        "outputId": "e2462de4-2b49-4908-be04-5b5c9ee3ca1e"
      },
      "id": "tFy0w4mvCNn-",
      "execution_count": 252,
      "outputs": [
        {
          "output_type": "execute_result",
          "data": {
            "text/plain": [
              "90.9305315608359"
            ]
          },
          "metadata": {},
          "execution_count": 252
        }
      ]
    },
    {
      "cell_type": "code",
      "execution_count": 253,
      "id": "964c806d",
      "metadata": {
        "id": "964c806d"
      },
      "outputs": [],
      "source": [
        "# #lEAVE ONE OUT VALIDATION\n",
        "\n",
        "# loo_RF = LeaveOneOut()\n",
        "# loo_RF = cross_val_score(model, X_train, y_train, cv= loo_RF, scoring = 'f1_macro')\n",
        "\n",
        "# average_score_RF = loo_RF.mean() * 100\n",
        "# average_score_RF"
      ]
    },
    {
      "cell_type": "markdown",
      "id": "8505505b",
      "metadata": {
        "id": "8505505b"
      },
      "source": [
        "# EXTRA TREES CLASSIFER"
      ]
    },
    {
      "cell_type": "code",
      "source": [
        "model_params = {'n_estimators' : 100, 'min_samples_split' : 2, 'min_samples_leaf' : 8, 'max_features' : None}"
      ],
      "metadata": {
        "id": "QppWjfw9PkHM"
      },
      "id": "QppWjfw9PkHM",
      "execution_count": 254,
      "outputs": []
    },
    {
      "cell_type": "code",
      "source": [
        "rf_model = RandomizedSearchCV\n",
        "clf = RandomizedSearchCV(rf_model, model_params, cv=5, n_iter=10, scoring = 'accuracy', n_jobs = -1, verbose = 1)\n",
        "\n",
        "#rf = clf.fit(X_train, y_train)"
      ],
      "metadata": {
        "id": "hyRf-kR7MFvc"
      },
      "id": "hyRf-kR7MFvc",
      "execution_count": 255,
      "outputs": []
    },
    {
      "cell_type": "code",
      "execution_count": 256,
      "id": "5c6fe671",
      "metadata": {
        "colab": {
          "base_uri": "https://localhost:8080/"
        },
        "id": "5c6fe671",
        "outputId": "27cca01f-0b04-4e9f-c865-98327c59c657"
      },
      "outputs": [
        {
          "output_type": "execute_result",
          "data": {
            "text/plain": [
              "ExtraTreesClassifier(random_state=1)"
            ]
          },
          "metadata": {},
          "execution_count": 256
        }
      ],
      "source": [
        "#train\n",
        "\n",
        "\n",
        "model_EXT = ExtraTreesClassifier(random_state = 1)\n",
        "model_EXT.fit(X_train, y_train)"
      ]
    },
    {
      "cell_type": "markdown",
      "id": "2826c6ce",
      "metadata": {
        "id": "2826c6ce"
      },
      "source": [
        "EVALUATIONS"
      ]
    },
    {
      "cell_type": "code",
      "execution_count": 257,
      "id": "85ec0810",
      "metadata": {
        "colab": {
          "base_uri": "https://localhost:8080/"
        },
        "id": "85ec0810",
        "outputId": "aa2f4a70-dd3e-4bcd-b993-43aba330e2f8"
      },
      "outputs": [
        {
          "output_type": "execute_result",
          "data": {
            "text/plain": [
              "0.9285"
            ]
          },
          "metadata": {},
          "execution_count": 257
        }
      ],
      "source": [
        "score_EXT = model_EXT.score(X_test, y_test)\n",
        "score_EXT"
      ]
    },
    {
      "cell_type": "code",
      "execution_count": 258,
      "id": "ca1dd269",
      "metadata": {
        "colab": {
          "base_uri": "https://localhost:8080/"
        },
        "id": "ca1dd269",
        "outputId": "dabc9dac-7342-4605-be8b-1936de6df364"
      },
      "outputs": [
        {
          "output_type": "execute_result",
          "data": {
            "text/plain": [
              "array([0.90125198, 0.90338773, 0.91047057, 0.90799104, 0.91886396])"
            ]
          },
          "metadata": {},
          "execution_count": 258
        }
      ],
      "source": [
        "#CROSS-VALIDATION\n",
        "\n",
        "cv_EXT = cross_val_score(model_EXT, X_train, y_train, cv= 5 , scoring= 'f1_macro' )\n",
        "cv_EXT"
      ]
    },
    {
      "cell_type": "code",
      "source": [
        "average_score_cv_EXT = cv_EXT.mean() * 100\n",
        "average_score_cv_EXT"
      ],
      "metadata": {
        "colab": {
          "base_uri": "https://localhost:8080/"
        },
        "id": "2JhGCOPlCuPv",
        "outputId": "7ac5e45d-d0f2-4111-d122-6d67d0bed30e"
      },
      "id": "2JhGCOPlCuPv",
      "execution_count": 259,
      "outputs": [
        {
          "output_type": "execute_result",
          "data": {
            "text/plain": [
              "90.83930561479285"
            ]
          },
          "metadata": {},
          "execution_count": 259
        }
      ]
    },
    {
      "cell_type": "code",
      "execution_count": 260,
      "id": "6322f05e",
      "metadata": {
        "colab": {
          "base_uri": "https://localhost:8080/"
        },
        "id": "6322f05e",
        "outputId": "cd374851-9163-4af2-a7a8-5376c3175306"
      },
      "outputs": [
        {
          "output_type": "execute_result",
          "data": {
            "text/plain": [
              "array([0.89993313, 0.91754002, 0.91930084, 0.90313636, 0.90914017])"
            ]
          },
          "metadata": {},
          "execution_count": 260
        }
      ],
      "source": [
        "#K-FOLD VALIDATION\n",
        "\n",
        "k_fold_EXT = KFold(n_splits = 5, random_state = None)\n",
        "k_fold_EXT = cross_val_score(model_EXT, X_train, y_train, cv= k_fold_EXT, scoring = 'f1_macro')\n",
        "k_fold_EXT"
      ]
    },
    {
      "cell_type": "code",
      "source": [
        "average_score_kfold_EXT = k_fold_EXT.mean() * 100\n",
        "average_score_kfold_EXT"
      ],
      "metadata": {
        "colab": {
          "base_uri": "https://localhost:8080/"
        },
        "id": "T69yxCL8C-6D",
        "outputId": "f8040071-d6cc-4707-cb88-b2c8f960a9e1"
      },
      "id": "T69yxCL8C-6D",
      "execution_count": 261,
      "outputs": [
        {
          "output_type": "execute_result",
          "data": {
            "text/plain": [
              "90.98101046883862"
            ]
          },
          "metadata": {},
          "execution_count": 261
        }
      ]
    },
    {
      "cell_type": "code",
      "execution_count": 262,
      "id": "616005a2",
      "metadata": {
        "colab": {
          "base_uri": "https://localhost:8080/"
        },
        "id": "616005a2",
        "outputId": "1679971c-12af-454c-ce46-bc26711a0969"
      },
      "outputs": [
        {
          "output_type": "execute_result",
          "data": {
            "text/plain": [
              "array([0.90125198, 0.90338773, 0.91047057, 0.90799104, 0.91886396])"
            ]
          },
          "metadata": {},
          "execution_count": 262
        }
      ],
      "source": [
        "#Stratified K-FOLD VALIDATION\n",
        "\n",
        "S_k_fold_EXT = StratifiedKFold(n_splits = 5, random_state = None)\n",
        "S_k_fold_EXT = cross_val_score(model_EXT, X_train, y_train, cv= S_k_fold_EXT, scoring = 'f1_macro')\n",
        "S_k_fold_EXT"
      ]
    },
    {
      "cell_type": "code",
      "source": [
        "average_score_skfold_EXT = S_k_fold_EXT.mean() * 100\n",
        "average_score_skfold_EXT"
      ],
      "metadata": {
        "colab": {
          "base_uri": "https://localhost:8080/"
        },
        "id": "5jUVRQ7kDSGM",
        "outputId": "668541ca-7fc3-4450-878b-ccc784df5b17"
      },
      "id": "5jUVRQ7kDSGM",
      "execution_count": 263,
      "outputs": [
        {
          "output_type": "execute_result",
          "data": {
            "text/plain": [
              "90.83930561479285"
            ]
          },
          "metadata": {},
          "execution_count": 263
        }
      ]
    },
    {
      "cell_type": "code",
      "execution_count": 264,
      "id": "4c09b5e3",
      "metadata": {
        "id": "4c09b5e3"
      },
      "outputs": [],
      "source": [
        "# #lEAVE ONE OUT VALIDATION\n",
        "\n",
        "# loo_EXT = LeaveOneOut()\n",
        "# loo_EXT = cross_val_score(model_EXT, X_train, y_train, cv= loo_EXT, scoring = 'f1_macro')\n",
        "\n",
        "# average_score_EXT = loo_EXT.mean() * 100\n",
        "# average_score_EXT"
      ]
    },
    {
      "cell_type": "markdown",
      "id": "74339d6b",
      "metadata": {
        "id": "74339d6b"
      },
      "source": [
        "# XGBOOST CLASSIFIER"
      ]
    },
    {
      "cell_type": "code",
      "execution_count": 265,
      "id": "a6b95ee8",
      "metadata": {
        "colab": {
          "base_uri": "https://localhost:8080/"
        },
        "id": "a6b95ee8",
        "outputId": "3bdd08a8-594b-442a-8e9c-d0fa06afc3ba"
      },
      "outputs": [
        {
          "output_type": "execute_result",
          "data": {
            "text/plain": [
              "XGBClassifier(random_state=1)"
            ]
          },
          "metadata": {},
          "execution_count": 265
        }
      ],
      "source": [
        "#train\n",
        "\n",
        "model_XGB = XGBClassifier(random_state = 1)\n",
        "model_XGB.fit(X_train, y_train)"
      ]
    },
    {
      "cell_type": "code",
      "source": [
        "new_predictions = model_XGB.predict(X_test)\n",
        "\n",
        "cnf_mat = confusion_matrix(y_test, new_predictions)\n",
        "cnf_mat"
      ],
      "metadata": {
        "colab": {
          "base_uri": "https://localhost:8080/"
        },
        "id": "rjYYlkMKNsMf",
        "outputId": "d7122580-07e6-4352-93e4-7769171829e6"
      },
      "id": "rjYYlkMKNsMf",
      "execution_count": 266,
      "outputs": [
        {
          "output_type": "execute_result",
          "data": {
            "text/plain": [
              "array([[1236,   52],\n",
              "       [ 109,  603]])"
            ]
          },
          "metadata": {},
          "execution_count": 266
        }
      ]
    },
    {
      "cell_type": "code",
      "source": [
        "accuracy = accuracy_score(new_predictions, y_test)\n",
        "print( 'Accuracy: {}' .format(round(accuracy*100 ), 4))"
      ],
      "metadata": {
        "colab": {
          "base_uri": "https://localhost:8080/"
        },
        "id": "o8atTDwxN7YW",
        "outputId": "e85a1427-7788-4008-a9f1-82e950416c7a"
      },
      "id": "o8atTDwxN7YW",
      "execution_count": 267,
      "outputs": [
        {
          "output_type": "stream",
          "name": "stdout",
          "text": [
            "Accuracy: 92\n"
          ]
        }
      ]
    },
    {
      "cell_type": "markdown",
      "id": "ba57b195",
      "metadata": {
        "id": "ba57b195"
      },
      "source": [
        "EVALUATIONS"
      ]
    },
    {
      "cell_type": "code",
      "execution_count": 268,
      "id": "d653dd7b",
      "metadata": {
        "colab": {
          "base_uri": "https://localhost:8080/"
        },
        "id": "d653dd7b",
        "outputId": "945171a7-8f68-4e95-dd69-c8a8eaca2b38"
      },
      "outputs": [
        {
          "output_type": "execute_result",
          "data": {
            "text/plain": [
              "0.9195"
            ]
          },
          "metadata": {},
          "execution_count": 268
        }
      ],
      "source": [
        "score_XGB = model_XGB.score(X_test, y_test)\n",
        "score_XGB"
      ]
    },
    {
      "cell_type": "code",
      "execution_count": 269,
      "id": "c90043c8",
      "metadata": {
        "colab": {
          "base_uri": "https://localhost:8080/"
        },
        "id": "c90043c8",
        "outputId": "4d2cfa2f-664f-42f4-8a8c-609a7986a514"
      },
      "outputs": [
        {
          "output_type": "execute_result",
          "data": {
            "text/plain": [
              "array([0.89416221, 0.91816775, 0.91843641, 0.9083106 , 0.92672083])"
            ]
          },
          "metadata": {},
          "execution_count": 269
        }
      ],
      "source": [
        "#CROSS-VALIDATION\n",
        "\n",
        "cv_XGB = cross_val_score(model_XGB, X_train, y_train, cv= 5 , scoring= 'f1_macro' )\n",
        "cv_XGB"
      ]
    },
    {
      "cell_type": "code",
      "source": [
        "average_score_cv_XGB = cv_XGB.mean() * 100\n",
        "average_score_cv_XGB"
      ],
      "metadata": {
        "colab": {
          "base_uri": "https://localhost:8080/"
        },
        "id": "gYEme6urDkPW",
        "outputId": "04d67936-e1b1-4b09-98d9-da705e48893b"
      },
      "id": "gYEme6urDkPW",
      "execution_count": 270,
      "outputs": [
        {
          "output_type": "execute_result",
          "data": {
            "text/plain": [
              "91.3159560444606"
            ]
          },
          "metadata": {},
          "execution_count": 270
        }
      ]
    },
    {
      "cell_type": "code",
      "execution_count": 271,
      "id": "7fa8ecf2",
      "metadata": {
        "colab": {
          "base_uri": "https://localhost:8080/"
        },
        "id": "7fa8ecf2",
        "outputId": "da9082e8-7d58-43b2-c73d-3e81de9677d3"
      },
      "outputs": [
        {
          "output_type": "execute_result",
          "data": {
            "text/plain": [
              "array([0.89065725, 0.91569478, 0.91459966, 0.90555408, 0.92110713])"
            ]
          },
          "metadata": {},
          "execution_count": 271
        }
      ],
      "source": [
        "#K-FOLD VALIDATION\n",
        "\n",
        "k_fold_XGB = KFold(n_splits = 5, random_state = None)\n",
        "k_fold_XGB = cross_val_score(model_XGB, X_train, y_train, cv= k_fold_XGB, scoring = 'f1_macro')\n",
        "k_fold_XGB"
      ]
    },
    {
      "cell_type": "code",
      "source": [
        "average_score_kfold_XGB = k_fold_XGB.mean() * 100\n",
        "average_score_kfold_XGB"
      ],
      "metadata": {
        "colab": {
          "base_uri": "https://localhost:8080/"
        },
        "id": "gd_dw0EDDwu0",
        "outputId": "b02fc5cf-6702-4c5b-c4f0-f88e5e0a8909"
      },
      "id": "gd_dw0EDDwu0",
      "execution_count": 272,
      "outputs": [
        {
          "output_type": "execute_result",
          "data": {
            "text/plain": [
              "90.95225794624282"
            ]
          },
          "metadata": {},
          "execution_count": 272
        }
      ]
    },
    {
      "cell_type": "code",
      "execution_count": 273,
      "id": "11d5cece",
      "metadata": {
        "colab": {
          "base_uri": "https://localhost:8080/"
        },
        "id": "11d5cece",
        "outputId": "586a5c93-03cf-4caf-96e8-b5234f8b4191"
      },
      "outputs": [
        {
          "output_type": "execute_result",
          "data": {
            "text/plain": [
              "array([0.89416221, 0.91816775, 0.91843641, 0.9083106 , 0.92672083])"
            ]
          },
          "metadata": {},
          "execution_count": 273
        }
      ],
      "source": [
        "#Stratified K-FOLD VALIDATION\n",
        "\n",
        "S_k_fold_XGB = StratifiedKFold(n_splits = 5, random_state = None)\n",
        "S_k_fold_XGB = cross_val_score(model_XGB, X_train, y_train, cv= S_k_fold_XGB, scoring = 'f1_macro')\n",
        "S_k_fold_XGB"
      ]
    },
    {
      "cell_type": "code",
      "source": [
        "average_score_skfold_XGB = S_k_fold_XGB.mean() * 100\n",
        "average_score_skfold_XGB"
      ],
      "metadata": {
        "colab": {
          "base_uri": "https://localhost:8080/"
        },
        "id": "jEjOSXCWECe5",
        "outputId": "5147552e-53e7-4beb-8dca-d417c6e53bc7"
      },
      "id": "jEjOSXCWECe5",
      "execution_count": 274,
      "outputs": [
        {
          "output_type": "execute_result",
          "data": {
            "text/plain": [
              "91.3159560444606"
            ]
          },
          "metadata": {},
          "execution_count": 274
        }
      ]
    },
    {
      "cell_type": "code",
      "execution_count": 275,
      "id": "05a306a8",
      "metadata": {
        "id": "05a306a8"
      },
      "outputs": [],
      "source": [
        "# #lEAVE ONE OUT VALIDATION\n",
        "\n",
        "# loo_XGB = LeaveOneOut()\n",
        "# loo_XGB = cross_val_score(model_XGB, X_train, y_train, cv= loo_XGB, scoring = 'f1_macro')\n",
        "\n",
        "# average_score_XGB = loo_XGB.mean() * 100\n",
        "# average_score_XGB"
      ]
    },
    {
      "cell_type": "markdown",
      "id": "4928386a",
      "metadata": {
        "id": "4928386a"
      },
      "source": [
        "# LIGHTGBM CLASSIFIER"
      ]
    },
    {
      "cell_type": "code",
      "execution_count": 276,
      "id": "45fbe08e",
      "metadata": {
        "colab": {
          "base_uri": "https://localhost:8080/"
        },
        "id": "45fbe08e",
        "outputId": "96459a0d-9a63-4ae8-d191-34b20a161f09"
      },
      "outputs": [
        {
          "output_type": "execute_result",
          "data": {
            "text/plain": [
              "LGBMClassifier(random_state=1)"
            ]
          },
          "metadata": {},
          "execution_count": 276
        }
      ],
      "source": [
        "#train\n",
        "\n",
        "model_LGB = LGBMClassifier(random_state = 1)\n",
        "model_LGB.fit(X_train, y_train)"
      ]
    },
    {
      "cell_type": "markdown",
      "id": "4800808b",
      "metadata": {
        "id": "4800808b"
      },
      "source": [
        "EVALUATION"
      ]
    },
    {
      "cell_type": "code",
      "execution_count": 277,
      "id": "cd54c412",
      "metadata": {
        "colab": {
          "base_uri": "https://localhost:8080/"
        },
        "id": "cd54c412",
        "outputId": "e8637400-d5da-4266-c224-bc864baa1cd9"
      },
      "outputs": [
        {
          "output_type": "execute_result",
          "data": {
            "text/plain": [
              "0.9375"
            ]
          },
          "metadata": {},
          "execution_count": 277
        }
      ],
      "source": [
        "score_LGB = model_LGB.score(X_test, y_test)\n",
        "score_LGB"
      ]
    },
    {
      "cell_type": "code",
      "source": [
        ""
      ],
      "metadata": {
        "id": "5SqTKybiHZgH"
      },
      "id": "5SqTKybiHZgH",
      "execution_count": 277,
      "outputs": []
    },
    {
      "cell_type": "code",
      "execution_count": 278,
      "id": "8152715d",
      "metadata": {
        "colab": {
          "base_uri": "https://localhost:8080/"
        },
        "id": "8152715d",
        "outputId": "6352eabb-05eb-4e51-e926-e615b0ee97b9"
      },
      "outputs": [
        {
          "output_type": "execute_result",
          "data": {
            "text/plain": [
              "array([0.92843386, 0.94817937, 0.92658942, 0.92809053, 0.94694022])"
            ]
          },
          "metadata": {},
          "execution_count": 278
        }
      ],
      "source": [
        "#CROSS-VALIDATION\n",
        "\n",
        "cv_LGB = cross_val_score(model_LGB, X_train, y_train, cv= 5 , scoring= 'f1_macro' )\n",
        "cv_LGB"
      ]
    },
    {
      "cell_type": "code",
      "source": [
        "average_score_cv_LGB = cv_LGB.mean() * 100\n",
        "average_score_cv_LGB"
      ],
      "metadata": {
        "colab": {
          "base_uri": "https://localhost:8080/"
        },
        "id": "xdDv1239EZix",
        "outputId": "26debb27-c11a-401e-9c37-d4c7db214e98"
      },
      "id": "xdDv1239EZix",
      "execution_count": 279,
      "outputs": [
        {
          "output_type": "execute_result",
          "data": {
            "text/plain": [
              "93.56466815809814"
            ]
          },
          "metadata": {},
          "execution_count": 279
        }
      ]
    },
    {
      "cell_type": "code",
      "execution_count": 280,
      "id": "9867e600",
      "metadata": {
        "colab": {
          "base_uri": "https://localhost:8080/"
        },
        "id": "9867e600",
        "outputId": "f235ee85-78d7-44ca-d7af-d24ae42048ea"
      },
      "outputs": [
        {
          "output_type": "execute_result",
          "data": {
            "text/plain": [
              "array([0.93006871, 0.94233376, 0.93178646, 0.93148702, 0.94739339])"
            ]
          },
          "metadata": {},
          "execution_count": 280
        }
      ],
      "source": [
        "#K-FOLD VALIDATION\n",
        "\n",
        "k_fold_LGB = KFold(n_splits = 5, random_state = None)\n",
        "k_fold_LGB = cross_val_score(model_LGB, X_train, y_train, cv= k_fold_LGB, scoring = 'f1_macro')\n",
        "k_fold_LGB"
      ]
    },
    {
      "cell_type": "code",
      "source": [
        "average_score_kfold_LGB = k_fold_LGB.mean() * 100\n",
        "average_score_kfold_LGB"
      ],
      "metadata": {
        "colab": {
          "base_uri": "https://localhost:8080/"
        },
        "id": "UAb1MG-DEi00",
        "outputId": "b1562405-bd00-43ce-d7d2-21dc0a136e3f"
      },
      "id": "UAb1MG-DEi00",
      "execution_count": 281,
      "outputs": [
        {
          "output_type": "execute_result",
          "data": {
            "text/plain": [
              "93.66138685894839"
            ]
          },
          "metadata": {},
          "execution_count": 281
        }
      ]
    },
    {
      "cell_type": "code",
      "execution_count": 282,
      "id": "bd38ac31",
      "metadata": {
        "colab": {
          "base_uri": "https://localhost:8080/"
        },
        "id": "bd38ac31",
        "outputId": "2b1ed014-f051-487f-ba5c-96e966f75a9f"
      },
      "outputs": [
        {
          "output_type": "execute_result",
          "data": {
            "text/plain": [
              "array([0.92843386, 0.94817937, 0.92658942, 0.92809053, 0.94694022])"
            ]
          },
          "metadata": {},
          "execution_count": 282
        }
      ],
      "source": [
        "#Stratified K-FOLD VALIDATION\n",
        "\n",
        "S_k_fold_LGB = StratifiedKFold(n_splits = 5, random_state = None)\n",
        "S_k_fold_LGB = cross_val_score(model_LGB, X_train, y_train, cv= S_k_fold_LGB, scoring = 'f1_macro')\n",
        "S_k_fold_LGB"
      ]
    },
    {
      "cell_type": "code",
      "source": [
        "average_score_skfold_LGB = S_k_fold_LGB.mean() * 100\n",
        "average_score_skfold_LGB"
      ],
      "metadata": {
        "colab": {
          "base_uri": "https://localhost:8080/"
        },
        "id": "HvlRR3Q8Ezl8",
        "outputId": "ffc9f436-7a73-46c8-92d4-05f5ae8e00a7"
      },
      "id": "HvlRR3Q8Ezl8",
      "execution_count": 283,
      "outputs": [
        {
          "output_type": "execute_result",
          "data": {
            "text/plain": [
              "93.56466815809814"
            ]
          },
          "metadata": {},
          "execution_count": 283
        }
      ]
    },
    {
      "cell_type": "code",
      "execution_count": 284,
      "id": "964f0e4c",
      "metadata": {
        "id": "964f0e4c"
      },
      "outputs": [],
      "source": [
        "# #lEAVE ONE OUT VALIDATION\n",
        "\n",
        "# loo_LGB = LeaveOneOut()\n",
        "# loo_LGB = cross_val_score(model_LGB, X_train, y_train, cv= loo_LGB, scoring = 'f1_macro')\n",
        "\n",
        "# average_score_LGB = loo_LGB.mean() * 100\n",
        "# average_score_LGB"
      ]
    },
    {
      "cell_type": "code",
      "source": [
        "new_predictions = model_LGB.predict(X_test)\n",
        "\n",
        "cnf_mat = confusion_matrix(y_test, new_predictions)\n",
        "cnf_mat\n"
      ],
      "metadata": {
        "colab": {
          "base_uri": "https://localhost:8080/"
        },
        "id": "2_3t3fz-Hx0n",
        "outputId": "ea0fd52b-bd8c-4030-93e7-6208dbb94b02"
      },
      "id": "2_3t3fz-Hx0n",
      "execution_count": 285,
      "outputs": [
        {
          "output_type": "execute_result",
          "data": {
            "text/plain": [
              "array([[1239,   49],\n",
              "       [  76,  636]])"
            ]
          },
          "metadata": {},
          "execution_count": 285
        }
      ]
    },
    {
      "cell_type": "code",
      "source": [
        "accuracy = accuracy_score(new_predictions, y_test)\n",
        "print( 'Accuracy: {}' .format(round(accuracy*100 ), 4))"
      ],
      "metadata": {
        "colab": {
          "base_uri": "https://localhost:8080/"
        },
        "id": "mAF2mY3gGy5D",
        "outputId": "a4607b7d-b431-441f-9af1-4b944f085708"
      },
      "id": "mAF2mY3gGy5D",
      "execution_count": 286,
      "outputs": [
        {
          "output_type": "stream",
          "name": "stdout",
          "text": [
            "Accuracy: 94\n"
          ]
        }
      ]
    },
    {
      "cell_type": "code",
      "source": [
        ""
      ],
      "metadata": {
        "id": "MMYEMrZKIIIN"
      },
      "id": "MMYEMrZKIIIN",
      "execution_count": 286,
      "outputs": []
    }
  ],
  "metadata": {
    "kernelspec": {
      "display_name": "Python 3",
      "language": "python",
      "name": "python3"
    },
    "language_info": {
      "codemirror_mode": {
        "name": "ipython",
        "version": 3
      },
      "file_extension": ".py",
      "mimetype": "text/x-python",
      "name": "python",
      "nbconvert_exporter": "python",
      "pygments_lexer": "ipython3",
      "version": "3.9.0"
    },
    "colab": {
      "name": "stage_c_hamoye_quiz.ipynb",
      "provenance": []
    },
    "accelerator": "GPU"
  },
  "nbformat": 4,
  "nbformat_minor": 5
}